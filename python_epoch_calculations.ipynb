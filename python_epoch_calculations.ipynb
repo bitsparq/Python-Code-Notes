{
 "cells": [
  {
   "cell_type": "markdown",
   "metadata": {},
   "source": [
    "# Epoch time calculations\n",
    "## Description:\n",
    "This sample code snippet is an illustration of extraction and time conversion between desired epochs. \n",
    "This code may not be the most efficent way solve epoch calculations, however it it believed that for proof-of-concept purposes this code is sufficient.\n",
    "\n",
    "### Author: Abe Lopez\n",
    "#### Written in Python 2.7\n",
    "#### Libraries required: delorean, datetime\n",
    "#### Input: time\n",
    "#### Output: display of various epoch times in milliseconds\n",
    "#### Version: 0.0.1"
   ]
  },
  {
   "cell_type": "code",
   "execution_count": 9,
   "metadata": {
    "collapsed": false
   },
   "outputs": [],
   "source": [
    "import datetime\n",
    "import delorean\n",
    "from delorean import parse"
   ]
  },
  {
   "cell_type": "code",
   "execution_count": 10,
   "metadata": {
    "collapsed": true
   },
   "outputs": [],
   "source": [
    "# Set custom and local datetime you want to convert to millisecond sine 2004 epoch. \n",
    "custom_datetime = \"2017/October/05 12:30:00 +1000\""
   ]
  },
  {
   "cell_type": "code",
   "execution_count": 11,
   "metadata": {
    "collapsed": false
   },
   "outputs": [],
   "source": [
    "# Time in milliSeconds between now and unix time (1970)\n",
    "now = datetime.datetime.utcnow()\n",
    "now_unix_epoch = int((delorean.Delorean(now, timezone=\"UTC\").epoch)*1000)\n",
    "local_time_now = delorean.Delorean(now, timezone=\"UTC\").shift(\"Australia/Brisbane\").datetime\n",
    "local_time_str = local_time_now.strftime(\"%A, %d %B %Y %I:%M:%S.%f %p\") # http://strftime.org/"
   ]
  },
  {
   "cell_type": "code",
   "execution_count": 12,
   "metadata": {
    "collapsed": false
   },
   "outputs": [],
   "source": [
    "# Time in milliSeconds between 2004 epoch and unix epoch (1970)\n",
    "Y2004_1970_milli = int((delorean.Delorean(datetime.datetime(2004, 1, 1,0,0), timezone=\"UTC\").epoch)*1000)"
   ]
  },
  {
   "cell_type": "code",
   "execution_count": 13,
   "metadata": {
    "collapsed": false
   },
   "outputs": [],
   "source": [
    "# Time in milliseconds between now and 2004 Epoch\n",
    "time_since_2004_ms = now_unix_epoch - Y2004_1970_milli"
   ]
  },
  {
   "cell_type": "code",
   "execution_count": 14,
   "metadata": {
    "collapsed": false
   },
   "outputs": [],
   "source": [
    "# Custom date and time\n",
    "parse_custom_datetime = parse(custom_datetime).shift(\"UTC\")\n",
    "#parse_custom_datetime.datetime\n",
    "custom_unix_epoch = int((delorean.Delorean(parse_custom_datetime.datetime, timezone=\"UTC\").epoch)*1000)\n",
    "# Time in milliseconds between custom date and time and 2004 Epoch\n",
    "custom_time_since_2004_ms = custom_unix_epoch - Y2004_1970_milli"
   ]
  },
  {
   "cell_type": "code",
   "execution_count": 15,
   "metadata": {
    "collapsed": false
   },
   "outputs": [
    {
     "name": "stdout",
     "output_type": "stream",
     "text": [
      "Current local datetime is: Thursday, 05 October 2017 07:58:25.315710 AM\n",
      "Current unix time equivalent is: 1507154305315 milliseconds\n",
      "Time between now and 2004 epoch is: 434239105315 milliseconds\n",
      "Time between custom date: *2017/October/05 12:30:00 +1000* and 2004 epoch is: *434255400000* milliseconds\n"
     ]
    }
   ],
   "source": [
    "print 'Current local datetime is: {}'.format(local_time_str)\n",
    "print 'Current unix time equivalent is: {} milliseconds'.format(now_unix_epoch)\n",
    "print 'Time between now and 2004 epoch is: {} milliseconds'.format(time_since_2004_ms)\n",
    "print 'Time between custom date: *{}* and 2004 epoch is: *{}* milliseconds'.format(custom_datetime,custom_time_since_2004_ms)"
   ]
  },
  {
   "cell_type": "code",
   "execution_count": null,
   "metadata": {
    "collapsed": true
   },
   "outputs": [],
   "source": []
  }
 ],
 "metadata": {
  "anaconda-cloud": {},
  "kernelspec": {
   "display_name": "Python [Root]",
   "language": "python",
   "name": "Python [Root]"
  },
  "language_info": {
   "codemirror_mode": {
    "name": "ipython",
    "version": 2
   },
   "file_extension": ".py",
   "mimetype": "text/x-python",
   "name": "python",
   "nbconvert_exporter": "python",
   "pygments_lexer": "ipython2",
   "version": "2.7.13"
  }
 },
 "nbformat": 4,
 "nbformat_minor": 0
}
