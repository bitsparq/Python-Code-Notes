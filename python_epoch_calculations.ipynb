{
 "cells": [
  {
   "cell_type": "markdown",
   "metadata": {},
   "source": [
    "# Epoch time calculations\n",
    "## Description:\n",
    "This sample code snippet is an illustration of extraction and time conversion between desired epochs. \n",
    "This code may not be the most efficent way solve epoch calculations, however it it believed that for proof-of-concept purposes this code is sufficient.\n",
    "\n",
    "### Author: Abe Lopez\n",
    "#### Written in Python 2.7\n",
    "#### Libraries required: delorean, datetime\n",
    "#### Input: time\n",
    "#### Output: display of various epoch times in milliseconds\n",
    "#### Version: 0.0.1"
   ]
  },
  {
   "cell_type": "code",
   "execution_count": 263,
   "metadata": {
    "collapsed": false
   },
   "outputs": [],
   "source": [
    "import datetime\n",
    "import delorean\n",
    "from delorean import parse"
   ]
  },
  {
   "cell_type": "code",
   "execution_count": 264,
   "metadata": {
    "collapsed": true
   },
   "outputs": [],
   "source": [
    "# Set custom and local datetime you want to convert to millisecond sine 2004 epoch. \n",
    "custom_datetime = \"2017/09/07 18:55:22 +1000\""
   ]
  },
  {
   "cell_type": "code",
   "execution_count": 265,
   "metadata": {
    "collapsed": false
   },
   "outputs": [],
   "source": [
    "# Time in milliSeconds between now and unix time (1970)\n",
    "now = datetime.datetime.utcnow()\n",
    "now_unix_epoch = int((delorean.Delorean(now, timezone=\"UTC\").epoch)*1000)\n",
    "local_time_now = delorean.Delorean(now, timezone=\"UTC\").shift(\"Australia/Brisbane\").datetime\n",
    "local_time_str = local_time_now.strftime(\"%A, %d %B %Y %I:%M:%S.%f %p\")"
   ]
  },
  {
   "cell_type": "code",
   "execution_count": 266,
   "metadata": {
    "collapsed": false
   },
   "outputs": [],
   "source": [
    "# Time in milliSeconds between 2004 epoch and unix epoch (1970)\n",
    "Y2004_1970_milli = int((delorean.Delorean(datetime.datetime(2004, 1, 1,0,0), timezone=\"UTC\").epoch)*1000)"
   ]
  },
  {
   "cell_type": "code",
   "execution_count": 267,
   "metadata": {
    "collapsed": false
   },
   "outputs": [],
   "source": [
    "# Time in milliseconds between now and 2004 Epoch\n",
    "time_since_2004_ms = now_unix_epoch - Y2004_1970_milli"
   ]
  },
  {
   "cell_type": "code",
   "execution_count": 268,
   "metadata": {
    "collapsed": false
   },
   "outputs": [],
   "source": [
    "# Custom date and time\n",
    "parse_custom_datetime = parse(custom_datetime).shift(\"UTC\")\n",
    "#parse_custom_datetime.datetime\n",
    "custom_unix_epoch = int((delorean.Delorean(parse_custom_datetime.datetime, timezone=\"UTC\").epoch)*1000)\n",
    "# Time in milliseconds between custom date and time and 2004 Epoch\n",
    "custom_time_since_2004_ms = custom_unix_epoch - Y2004_1970_milli"
   ]
  },
  {
   "cell_type": "code",
   "execution_count": 269,
   "metadata": {
    "collapsed": false
   },
   "outputs": [
    {
     "name": "stdout",
     "output_type": "stream",
     "text": [
      "Current local datetime is: Thursday, 07 September 2017 06:59:37.147261 PM\n",
      "Current unix time equivalent is: 1504774777147 milliseconds\n",
      "Time between now and 2004 epoch is: 431859577147 milliseconds\n",
      "Time between custom date: [2017/09/07 18:55:22 +1000] and [2004 epoch] is: 426675322000 milliseconds\n"
     ]
    }
   ],
   "source": [
    "print 'Current local datetime is: {}'.format(local_time_str)\n",
    "print 'Current unix time equivalent is: {} milliseconds'.format(now_unix_epoch)\n",
    "print 'Time between now and 2004 epoch is: {} milliseconds'.format(time_since_2004_ms)\n",
    "print 'Time between custom date: [{}] and [2004 epoch] is: {} milliseconds'.format(custom_datetime,custom_time_since_2004_ms)"
   ]
  },
  {
   "cell_type": "code",
   "execution_count": null,
   "metadata": {
    "collapsed": true
   },
   "outputs": [],
   "source": []
  }
 ],
 "metadata": {
  "anaconda-cloud": {},
  "kernelspec": {
   "display_name": "Python [Root]",
   "language": "python",
   "name": "Python [Root]"
  },
  "language_info": {
   "codemirror_mode": {
    "name": "ipython",
    "version": 2
   },
   "file_extension": ".py",
   "mimetype": "text/x-python",
   "name": "python",
   "nbconvert_exporter": "python",
   "pygments_lexer": "ipython2",
   "version": "2.7.9"
  }
 },
 "nbformat": 4,
 "nbformat_minor": 0
}
