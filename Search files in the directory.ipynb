{
 "cells": [
  {
   "cell_type": "markdown",
   "metadata": {},
   "source": [
    "# Code Snippets"
   ]
  },
  {
   "cell_type": "markdown",
   "metadata": {},
   "source": [
    "#### This is bringing together my code notes from various place into one place."
   ]
  },
  {
   "cell_type": "raw",
   "metadata": {},
   "source": []
  },
  {
   "cell_type": "markdown",
   "metadata": {},
   "source": [
    "## Search files in the directory"
   ]
  },
  {
   "cell_type": "code",
   "execution_count": 2,
   "metadata": {
    "collapsed": true
   },
   "outputs": [],
   "source": [
    "import os, fnmatch\n",
    "# This is a function to locate xml files under the directory\n",
    "def locate(pattern, root=os.curdir):\n",
    "    location = os.walk(os.path.abspath(root))\n",
    "    for path, dirs, files in location:\n",
    "        for filename in fnmatch.filter(files, pattern):\n",
    "            yield os.path.join(path, filename)"
   ]
  },
  {
   "cell_type": "code",
   "execution_count": null,
   "metadata": {
    "collapsed": false
   },
   "outputs": [],
   "source": [
    "# get txt collection from directory and place it in memory\n",
    "collection = locate(\"*.txt\")"
   ]
  },
  {
   "cell_type": "code",
   "execution_count": null,
   "metadata": {
    "collapsed": false
   },
   "outputs": [],
   "source": [
    "for index, location in enumerate(collection):\n",
    "    print index,location"
   ]
  },
  {
   "cell_type": "markdown",
   "metadata": {},
   "source": [
    "Output is something like\n",
    "0 /Users/Folder1/Folder1.1/This is ab copy.txt\n",
    "1 /Users/Folder1/Folder1.1/This is ab copy.txt"
   ]
  },
  {
   "cell_type": "code",
   "execution_count": 5,
   "metadata": {
    "collapsed": false
   },
   "outputs": [],
   "source": [
    "root=os.curdir\n",
    "location = os.walk(os.path.abspath(root))"
   ]
  },
  {
   "cell_type": "code",
   "execution_count": 6,
   "metadata": {
    "collapsed": false
   },
   "outputs": [
    {
     "data": {
      "text/plain": [
       "<generator object walk at 0x105bcbf50>"
      ]
     },
     "execution_count": 6,
     "metadata": {},
     "output_type": "execute_result"
    }
   ],
   "source": [
    "location"
   ]
  },
  {
   "cell_type": "code",
   "execution_count": 7,
   "metadata": {
    "collapsed": false
   },
   "outputs": [
    {
     "name": "stdout",
     "output_type": "stream",
     "text": [
      "('/Users/abelo/Google Drive/Jupyter Notebooks/Python Notes', ['.git', '.ipynb_checkpoints'], ['.DS_Store', 'LICENSE.md', 'README.md', 'Search files in the directory.ipynb', 'This is ab copy.txt', 'This is ab.txt'])\n",
      "('/Users/abelo/Google Drive/Jupyter Notebooks/Python Notes/.git', ['branches', 'hooks', 'info', 'logs', 'objects', 'refs'], ['COMMIT_EDITMSG', 'config', 'description', 'FETCH_HEAD', 'HEAD', 'index', 'ORIG_HEAD', 'sourcetreeconfig'])\n",
      "('/Users/abelo/Google Drive/Jupyter Notebooks/Python Notes/.git/branches', [], [])\n",
      "('/Users/abelo/Google Drive/Jupyter Notebooks/Python Notes/.git/hooks', [], ['applypatch-msg.sample', 'commit-msg.sample', 'post-update.sample', 'pre-applypatch.sample', 'pre-commit.sample', 'pre-push.sample', 'pre-rebase.sample', 'pre-receive.sample', 'prepare-commit-msg.sample', 'update.sample'])\n",
      "('/Users/abelo/Google Drive/Jupyter Notebooks/Python Notes/.git/info', [], ['exclude'])\n",
      "('/Users/abelo/Google Drive/Jupyter Notebooks/Python Notes/.git/logs', ['refs'], ['HEAD'])\n",
      "('/Users/abelo/Google Drive/Jupyter Notebooks/Python Notes/.git/logs/refs', ['heads', 'remotes'], [])\n",
      "('/Users/abelo/Google Drive/Jupyter Notebooks/Python Notes/.git/logs/refs/heads', [], ['master'])\n",
      "('/Users/abelo/Google Drive/Jupyter Notebooks/Python Notes/.git/logs/refs/remotes', ['origin'], [])\n",
      "('/Users/abelo/Google Drive/Jupyter Notebooks/Python Notes/.git/logs/refs/remotes/origin', [], ['master'])\n",
      "('/Users/abelo/Google Drive/Jupyter Notebooks/Python Notes/.git/objects', ['14', '23', '24', '31', '3a', '3f', '4a', '61', '62', '72', '79', '82', 'b3', 'c2', 'c3', 'dc', 'f9', 'info', 'pack'], [])\n",
      "('/Users/abelo/Google Drive/Jupyter Notebooks/Python Notes/.git/objects/14', [], ['a150b2b70a75949c6aa21df14bd9d15fed4c47'])\n",
      "('/Users/abelo/Google Drive/Jupyter Notebooks/Python Notes/.git/objects/23', [], ['f803d280b43f02aa825bf1f5724c308273b1fd'])\n",
      "('/Users/abelo/Google Drive/Jupyter Notebooks/Python Notes/.git/objects/24', [], ['ece19aafa3527a785857df360408a912443323'])\n",
      "('/Users/abelo/Google Drive/Jupyter Notebooks/Python Notes/.git/objects/31', [], ['b34730a1ccdb6508203d5f75a5acdde596f761'])\n",
      "('/Users/abelo/Google Drive/Jupyter Notebooks/Python Notes/.git/objects/3a', [], ['e810a336c6016ad3f1483baf7492e69fee1444'])\n",
      "('/Users/abelo/Google Drive/Jupyter Notebooks/Python Notes/.git/objects/3f', [], ['dd43fd40ce33b933db140211653aa3e45e6374'])\n",
      "('/Users/abelo/Google Drive/Jupyter Notebooks/Python Notes/.git/objects/4a', [], ['94665ed0eafd8e6b6a41dd60a7d22b1e2eef9d'])\n",
      "('/Users/abelo/Google Drive/Jupyter Notebooks/Python Notes/.git/objects/61', [], ['880053c883c0bc8dacf3d914bff6ea386d9845'])\n",
      "('/Users/abelo/Google Drive/Jupyter Notebooks/Python Notes/.git/objects/62', [], ['35c718d4a0b67fc71f061be34364b9df1a2ff2'])\n",
      "('/Users/abelo/Google Drive/Jupyter Notebooks/Python Notes/.git/objects/72', [], ['adde74273978a9d4f556a7af303108df20c05b'])\n",
      "('/Users/abelo/Google Drive/Jupyter Notebooks/Python Notes/.git/objects/79', [], ['36daa6f8c2b3e55a8a1159b7afb8a1ccc80a85'])\n",
      "('/Users/abelo/Google Drive/Jupyter Notebooks/Python Notes/.git/objects/82', [], ['d90d7b0510690e986a2ca8b2330979643517d3'])\n",
      "('/Users/abelo/Google Drive/Jupyter Notebooks/Python Notes/.git/objects/b3', [], ['f8f299b417e19802b24e7e1a9b29e91e5901a0'])\n",
      "('/Users/abelo/Google Drive/Jupyter Notebooks/Python Notes/.git/objects/c2', [], ['7ffa08a56b6c7b0cddb6257774b217a7420a6a'])\n",
      "('/Users/abelo/Google Drive/Jupyter Notebooks/Python Notes/.git/objects/c3', [], ['41a80e87baa65eeff6f2990a7053945b8298af'])\n",
      "('/Users/abelo/Google Drive/Jupyter Notebooks/Python Notes/.git/objects/dc', [], ['6d46e2711c6f649f5ae7d786a954c46f315587'])\n",
      "('/Users/abelo/Google Drive/Jupyter Notebooks/Python Notes/.git/objects/f9', [], ['654d3bdeb8718d73ad7d59fab9fdeea8d56d1e'])\n",
      "('/Users/abelo/Google Drive/Jupyter Notebooks/Python Notes/.git/objects/info', [], [])\n",
      "('/Users/abelo/Google Drive/Jupyter Notebooks/Python Notes/.git/objects/pack', [], [])\n",
      "('/Users/abelo/Google Drive/Jupyter Notebooks/Python Notes/.git/refs', ['heads', 'remotes', 'tags'], [])\n",
      "('/Users/abelo/Google Drive/Jupyter Notebooks/Python Notes/.git/refs/heads', [], ['master'])\n",
      "('/Users/abelo/Google Drive/Jupyter Notebooks/Python Notes/.git/refs/remotes', ['origin'], [])\n",
      "('/Users/abelo/Google Drive/Jupyter Notebooks/Python Notes/.git/refs/remotes/origin', [], ['master'])\n",
      "('/Users/abelo/Google Drive/Jupyter Notebooks/Python Notes/.git/refs/tags', [], [])\n",
      "('/Users/abelo/Google Drive/Jupyter Notebooks/Python Notes/.ipynb_checkpoints', [], ['Search files in the directory-checkpoint.ipynb'])\n"
     ]
    }
   ],
   "source": [
    "for x in location:\n",
    "    print x"
   ]
  },
  {
   "cell_type": "code",
   "execution_count": null,
   "metadata": {
    "collapsed": true
   },
   "outputs": [],
   "source": []
  }
 ],
 "metadata": {
  "kernelspec": {
   "display_name": "Python [Root]",
   "language": "python",
   "name": "Python [Root]"
  },
  "language_info": {
   "codemirror_mode": {
    "name": "ipython",
    "version": 2
   },
   "file_extension": ".py",
   "mimetype": "text/x-python",
   "name": "python",
   "nbconvert_exporter": "python",
   "pygments_lexer": "ipython2",
   "version": "2.7.13"
  }
 },
 "nbformat": 4,
 "nbformat_minor": 0
}
